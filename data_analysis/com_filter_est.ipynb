{
 "cells": [
  {
   "cell_type": "markdown",
   "metadata": {},
   "source": [
    "# MPU9250 Complementary Filter Constant Estimation\n",
    "Document for estimating the complimentary filter constant $\\alpha$."
   ]
  },
  {
   "cell_type": "code",
   "execution_count": null,
   "metadata": {},
   "outputs": [],
   "source": [
    "# Import libraries\n",
    "import pandas as pd\n",
    "import numpy as np\n",
    "\n",
    "\n",
    "# Create a DataFrame with empty columns\n",
    "raw_col_names = ['t', 'a_x', 'a_y', 'a_z', 'g_x', 'g_y', 'g_z', 'roll', 'pitch', 'yaw']\n",
    "raw_df = pd.DataFrame(columns=raw_col_names)\n",
    "\n",
    "\n",
    "# Find absolute angles\n",
    "## Transfer time\n",
    "angles_df = pd.DataFrame()\n",
    "angles_df['t'] = raw_df['t']\n",
    "\n",
    "## Find absolute angles from accelerometer\n",
    "angles_df['acc_roll'] = np.arctan2(raw_df['a_z'], raw_df['a_y'])\n",
    "angles_df['acc_pitch'] = np.arctan2(raw_df['a_z'], raw_df['a_x'])\n",
    "angles_df['acc_yaw'] = np.arctan2(raw_df['a_x'], raw_df['a_y'])\n",
    "\n",
    "## Find absolute angles from gyroscope\n",
    "angles_df['gyro_roll'] = np.cumsum((raw_df['g_x'][:-1] + raw_df['g_x'][1:]) / 2 * np.diff(raw_df['t'], prepend=0))\n",
    "angles_df['gyro_pitch'] = np.cumsum((raw_df['g_y'][:-1] + raw_df['g_y'][1:]) / 2 * np.diff(raw_df['t'], prepend=0))\n",
    "angles_df['gyro_yaw'] = np.cumsum((raw_df['g_z'][:-1] + raw_df['g_z'][1:]) / 2 * np.diff(raw_df['t'], prepend=0))\n",
    "\n",
    "## Transfer commanded position\n",
    "angles_df['com_roll'] = raw_df['roll']\n",
    "angles_df['com_pitch'] = raw_df['pitch']\n",
    "angles_df['com_yaw'] = raw_df['yaw']"
   ]
  }
 ],
 "metadata": {
  "language_info": {
   "name": "python"
  }
 },
 "nbformat": 4,
 "nbformat_minor": 2
}
